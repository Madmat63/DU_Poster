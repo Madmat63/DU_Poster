{
 "cells": [
  {
   "cell_type": "markdown",
   "id": "db743fe8-eebd-4613-be6a-b2c39cced49a",
   "metadata": {},
   "source": [
    "# Analyse de transgène par Nanopore"
   ]
  },
  {
   "cell_type": "markdown",
   "id": "623d1bb0-e4b0-4193-b96b-fda0b1409ae7",
   "metadata": {},
   "source": [
    "## Préparation des données (à réaliser en local ou sur serveur)"
   ]
  },
  {
   "cell_type": "markdown",
   "id": "7a62f7f7-088c-4ac2-b131-31bf61078fd0",
   "metadata": {},
   "source": [
    "Lors du séquençage, le système Nanopore ne peut générer des fichiers avec plus de 1000 lignes. Plusieurs fastq sont ainsi produits lors d'un même run. Avant de débuter l'analyse, il faut donc concatener les fastq."
   ]
  },
  {
   "cell_type": "code",
   "execution_count": null,
   "id": "93cd8f9a-a17c-4b27-8bde-7443e9659948",
   "metadata": {
    "tags": []
   },
   "outputs": [],
   "source": [
    "cat *.fastq > final.fastq"
   ]
  },
  {
   "cell_type": "markdown",
   "id": "8e8a4adf-af1b-46d8-b3bb-303873fa5e5e",
   "metadata": {},
   "source": [
    "La connexion au serveur de l'IFB a été simplifié et sécurisé grâce à l'utilisation d'une clef SSH préalablement configuré dans le DU"
   ]
  },
  {
   "cell_type": "code",
   "execution_count": null,
   "id": "3bbcd3a4-1a0e-4ef6-a64f-4014c0c2dc55",
   "metadata": {},
   "outputs": [],
   "source": [
    "ssh LOGIN@core.cluster.france-bioinformatique.fr"
   ]
  },
  {
   "cell_type": "markdown",
   "id": "79d69377-f8a5-4a63-9883-94d404bfa25b",
   "metadata": {},
   "source": [
    "Utilisation du chemin absolu pour se placer dans le dossier du script et des données"
   ]
  },
  {
   "cell_type": "code",
   "execution_count": 4,
   "id": "b28e2178-7216-4d20-b824-9510e1fc81e1",
   "metadata": {},
   "outputs": [
    {
     "name": "stdout",
     "output_type": "stream",
     "text": [
      "\u0007"
     ]
    }
   ],
   "source": [
    "cd /shared/projects/form_2021_29/mchicard/Nanopore"
   ]
  },
  {
   "cell_type": "markdown",
   "id": "c4b923f7-3d37-4ea7-882b-2903dcb97681",
   "metadata": {},
   "source": [
    "Vérification de la localisation"
   ]
  },
  {
   "cell_type": "code",
   "execution_count": 6,
   "id": "6473fbd7-bb98-419b-bdcd-75894312dd66",
   "metadata": {},
   "outputs": [
    {
     "name": "stdout",
     "output_type": "stream",
     "text": [
      "/shared/projects/form_2021_29/mchicard/Nanopore\n"
     ]
    }
   ],
   "source": [
    "pwd"
   ]
  },
  {
   "cell_type": "markdown",
   "id": "8d3d0dc4-a04b-4b2a-a38e-5bc4e92985b5",
   "metadata": {},
   "source": [
    "Les données peuvent être transférér sur le serveur avec le Jupyter de l'IFB :\n",
    "https://jupyterhub.cluster.france-bioinformatique.fr"
   ]
  },
  {
   "cell_type": "markdown",
   "id": "0efcd0d9-250e-4fff-92bc-b608b2313e80",
   "metadata": {},
   "source": [
    "## Calcul sur les serveurs de l'IFB"
   ]
  },
  {
   "cell_type": "markdown",
   "id": "e95327fd-610a-451f-833e-c1119eb0ae23",
   "metadata": {},
   "source": [
    "Une fois les données transférées, il faut vérifier leurs intégritées"
   ]
  },
  {
   "cell_type": "code",
   "execution_count": null,
   "id": "ead303c8-9723-4383-9821-db878dc1b5a3",
   "metadata": {},
   "outputs": [],
   "source": [
    "srun -A form_2021_29 raw/md5sum -c reads_md5sum.txt"
   ]
  },
  {
   "cell_type": "markdown",
   "id": "6d34685f-ed77-43c3-bcbf-99f382fddd35",
   "metadata": {},
   "source": [
    "L'outil minimap pour l'alignement demande une minimum de mémoire vive pour fonctionner, il faut donc allouer une puissance de calcul suffisante sur le serveur"
   ]
  },
  {
   "cell_type": "code",
   "execution_count": null,
   "id": "dbe7faa4-2d52-4f70-9e95-de0af980551d",
   "metadata": {},
   "outputs": [],
   "source": [
    "salloc --cpus-per-task=12 --mem=32G"
   ]
  },
  {
   "cell_type": "markdown",
   "id": "659773fe-dd60-40fa-a2c6-78b7bdd8b4f9",
   "metadata": {},
   "source": [
    "Il faut ensuite vérifier si l'outil est bien présent"
   ]
  },
  {
   "cell_type": "code",
   "execution_count": null,
   "id": "a9c749d5-7ac4-4482-b660-0017ed5d75f3",
   "metadata": {},
   "outputs": [],
   "source": [
    "module avail -l minimap2"
   ]
  },
  {
   "cell_type": "markdown",
   "id": "7b26af70-a52a-449f-bf5a-c909e359b07e",
   "metadata": {},
   "source": [
    "L'outil peut ensuite être chargé (ici dans sa dernière version)"
   ]
  },
  {
   "cell_type": "code",
   "execution_count": null,
   "id": "d1b1c27d-d177-4077-a379-5862fcf8f012",
   "metadata": {},
   "outputs": [],
   "source": [
    "module load minimap2/2.18"
   ]
  },
  {
   "cell_type": "markdown",
   "id": "2ff40604-03f8-4d4a-9582-9231839c0ae9",
   "metadata": {},
   "source": [
    "L'outil minimap2 peut être utilisé, il faut lui renseigner la séquence de référence et le fastq. Le fichier de sortie sera un .sam et il faut également ajouter l'option -ax map-ont pour un alignement à partir de fichier Nanopore."
   ]
  },
  {
   "cell_type": "code",
   "execution_count": null,
   "id": "d9bc0d1b-5bd5-4842-97cc-c9bc395fd1eb",
   "metadata": {},
   "outputs": [],
   "source": [
    "srun minimap2 pRMCE_CD4_CTG.fasta R-19-153-5.fastq > R-19-153-5.sam -ax map-ont"
   ]
  },
  {
   "cell_type": "markdown",
   "id": "01674191-05e6-4548-abeb-691badbe3e19",
   "metadata": {},
   "source": [
    "Il faut maintenant transformer le .sam en .bam pour réduire sa taille et donc le manipuler plus facilement. L'outil samtools sera utilisé pour la transformation, le tri et l'indexage."
   ]
  },
  {
   "cell_type": "code",
   "execution_count": null,
   "id": "b086afa8-a6ae-4b0d-86f2-a40d5480fecc",
   "metadata": {},
   "outputs": [],
   "source": [
    "module avail -l samtools"
   ]
  },
  {
   "cell_type": "code",
   "execution_count": null,
   "id": "39c50af0-ce7e-44e3-81ff-e385531ea015",
   "metadata": {},
   "outputs": [],
   "source": [
    "module load samtools/1.15.1"
   ]
  },
  {
   "cell_type": "code",
   "execution_count": null,
   "id": "effe2880-a036-4e99-bfca-66f2bc7c361e",
   "metadata": {},
   "outputs": [],
   "source": [
    "srun samtools view -bS R-19-153-5.sam > R-19-153-5.bam"
   ]
  },
  {
   "cell_type": "code",
   "execution_count": null,
   "id": "4924a4a9-e348-462e-b5c1-d2eb15703671",
   "metadata": {},
   "outputs": [],
   "source": [
    "srun samtools index R-19-153-5.bam > R-19-153-5.sorted.bam"
   ]
  },
  {
   "cell_type": "markdown",
   "id": "8e03f895-cf48-432d-8d98-cb6a277dd5c2",
   "metadata": {},
   "source": [
    "Pour controler la couverture de chaque région, l'outil bedtools va être utilisé. Cet outil permet de calculer la couverture de chaque région d'un fichier .bed mais l'option -ibam va permettre de se passer d'un fichier .bed et de découper le génome de référence en région de couverture similaire. L'option -ibam permet de renseigner un fichier .bam et l'option -bg le découpage \"automatique\"."
   ]
  },
  {
   "cell_type": "code",
   "execution_count": null,
   "id": "7a4fda21-bd4f-492f-bd47-3fed0d049924",
   "metadata": {},
   "outputs": [],
   "source": [
    "module avail -l bedtools"
   ]
  },
  {
   "cell_type": "code",
   "execution_count": null,
   "id": "dbd8c0d5-9360-4aeb-a90c-eb91b0481391",
   "metadata": {},
   "outputs": [],
   "source": [
    "module load bedtools/2.30.0"
   ]
  },
  {
   "cell_type": "code",
   "execution_count": null,
   "id": "be6e7c3c-e3c2-48c1-a7e1-bda47c8a6cfc",
   "metadata": {},
   "outputs": [],
   "source": [
    "srun bedtools genomecov -ibam R-19-153-5.sorted.bam -bg > R-19-153-5.bedgraph"
   ]
  },
  {
   "cell_type": "markdown",
   "id": "e5c0efb4-390e-42ea-9f3f-5e86a79f5043",
   "metadata": {},
   "source": [
    "Plusieurs fastq doivent subir le même traitement. Un script bash de Pierre Poulain a donc été modifié pour automatiser ces étapes."
   ]
  },
  {
   "cell_type": "code",
   "execution_count": null,
   "id": "9b7c48b1-b696-4a70-8df4-f82ce72f6dc5",
   "metadata": {},
   "outputs": [],
   "source": [
    "sbatch -A form_2021_29 script_mc.sh"
   ]
  },
  {
   "cell_type": "markdown",
   "id": "283f8d4e-74ba-4ef7-9d46-84b738aeb3ae",
   "metadata": {},
   "source": [
    "Un numéro de JOB est donné lors du lancement du script et permet de suivre le déroulé des étapes grâce à la commande suivante"
   ]
  },
  {
   "cell_type": "code",
   "execution_count": 2,
   "id": "2bbe5e96-3991-4a1d-b51b-8262c0dbe3d8",
   "metadata": {},
   "outputs": [
    {
     "name": "stdout",
     "output_type": "stream",
     "text": [
      "       JobID    JobName      State               Start    Elapsed    CPUTime        NodeList \n",
      "------------ ---------- ---------- ------------------- ---------- ---------- --------------- \n",
      "23369129_0   script_mc+    RUNNING 2022-06-17T11:22:20   00:06:20   00:50:40     cpu-node-82 \n",
      "23369129_0.+      batch    RUNNING 2022-06-17T11:22:20   00:06:20   00:50:40     cpu-node-82 \n",
      "23369129_0.0   minimap2    RUNNING 2022-06-17T11:22:23   00:06:17   00:50:16     cpu-node-82 \n",
      "23369129_1   script_mc+    RUNNING 2022-06-17T11:22:20   00:06:20   00:50:40     cpu-node-74 \n",
      "23369129_1.+      batch    RUNNING 2022-06-17T11:22:20   00:06:20   00:50:40     cpu-node-74 \n",
      "23369129_1.0   minimap2    RUNNING 2022-06-17T11:22:22   00:06:18   00:50:24     cpu-node-74 \n",
      "23369129_2   script_mc+    RUNNING 2022-06-17T11:22:20   00:06:20   00:50:40     cpu-node-75 \n",
      "23369129_2.+      batch    RUNNING 2022-06-17T11:22:20   00:06:20   00:50:40     cpu-node-75 \n",
      "23369129_2.0   minimap2    RUNNING 2022-06-17T11:22:21   00:06:19   00:50:32     cpu-node-75 \n",
      "23369129_3   script_mc+  COMPLETED 2022-06-17T11:22:20   00:04:07   00:32:56     cpu-node-75 \n",
      "23369129_3.+      batch  COMPLETED 2022-06-17T11:22:20   00:04:07   00:32:56     cpu-node-75 \n",
      "23369129_3.0   minimap2  COMPLETED 2022-06-17T11:22:21   00:01:17   00:10:16     cpu-node-75 \n",
      "23369129_3.1   samtools  COMPLETED 2022-06-17T11:23:38   00:00:56   00:07:28     cpu-node-75 \n",
      "23369129_3.2   samtools  COMPLETED 2022-06-17T11:24:34   00:01:21   00:10:48     cpu-node-75 \n",
      "23369129_3.3   samtools  COMPLETED 2022-06-17T11:25:55   00:00:09   00:01:12     cpu-node-75 \n",
      "23369129_3.4   bedtools  COMPLETED 2022-06-17T11:26:04   00:00:22   00:02:56     cpu-node-75 \n",
      "23369129_4   script_mc+  COMPLETED 2022-06-17T11:22:20   00:05:55   00:47:20     cpu-node-75 \n",
      "23369129_4.+      batch  COMPLETED 2022-06-17T11:22:20   00:05:55   00:47:20     cpu-node-75 \n",
      "23369129_4.0   minimap2  COMPLETED 2022-06-17T11:22:21   00:02:19   00:18:32     cpu-node-75 \n",
      "23369129_4.1   samtools  COMPLETED 2022-06-17T11:24:40   00:01:08   00:09:04     cpu-node-75 \n",
      "23369129_4.2   samtools  COMPLETED 2022-06-17T11:25:48   00:01:46   00:14:08     cpu-node-75 \n",
      "23369129_4.3   samtools  COMPLETED 2022-06-17T11:27:34   00:00:11   00:01:28     cpu-node-75 \n",
      "23369129_4.4   bedtools  COMPLETED 2022-06-17T11:27:45   00:00:28   00:03:44     cpu-node-75 \n"
     ]
    }
   ],
   "source": [
    "sacct --format=JobID,JobName,State,Start,Elapsed,CPUTime,NodeList -j 23369129"
   ]
  },
  {
   "cell_type": "markdown",
   "id": "7c74184d-bab3-495e-bf95-7dafc445b5c4",
   "metadata": {},
   "source": [
    "<br>Le JOB peut être annulé avec la commande suivante"
   ]
  },
  {
   "cell_type": "code",
   "execution_count": null,
   "id": "599617cf-26d0-4551-9f12-466d638c7c42",
   "metadata": {},
   "outputs": [],
   "source": [
    "scancel JOBID"
   ]
  },
  {
   "cell_type": "markdown",
   "id": "6bc4e6f9-4815-415d-a53d-11ddcd7acb76",
   "metadata": {},
   "source": [
    "Les données peuvent ensuite être transféré en local après s'être placé dans le dossier de copie (ou en utilisaant Jupyter)"
   ]
  },
  {
   "cell_type": "code",
   "execution_count": null,
   "id": "a81a0836-2de5-44df-853e-3d3b0c8c15d7",
   "metadata": {},
   "outputs": [],
   "source": [
    "scp mchicard@core.cluster.france-bioinformatique.fr:/shared/ifbstor1/projects/form_2021_29/mchicard/Nanopore/coverage/*.bedgraph"
   ]
  },
  {
   "cell_type": "markdown",
   "id": "024aa256-f45b-4ab8-9590-edcfdec73dbd",
   "metadata": {},
   "source": [
    "Des calculs préliminaires sur R peuvent également réaliser dans le server et il faut se placer dans le dossier de sortie des résultats bedtools"
   ]
  },
  {
   "cell_type": "code",
   "execution_count": 2,
   "id": "23ddd68d-d42f-48eb-9066-5188970f49f7",
   "metadata": {},
   "outputs": [],
   "source": [
    "cd coverage"
   ]
  },
  {
   "cell_type": "code",
   "execution_count": 3,
   "id": "2b748910-6a43-42bb-8518-061aa97e401a",
   "metadata": {},
   "outputs": [
    {
     "name": "stdout",
     "output_type": "stream",
     "text": [
      "/shared/ifbstor1/projects/form_2021_29/mchicard/Nanopore/coverage\n"
     ]
    }
   ],
   "source": [
    "pwd"
   ]
  },
  {
   "cell_type": "markdown",
   "id": "a1f61480-8146-463b-904f-940e3417d173",
   "metadata": {},
   "source": [
    "## Vérification des données sur R"
   ]
  },
  {
   "cell_type": "markdown",
   "id": "797fc49b-93c6-401c-8e72-35eb54328e6a",
   "metadata": {},
   "source": [
    "Pour vérifier les données, le noyau de Jupyter peut être modifier pour passer en <b>R</b>"
   ]
  },
  {
   "cell_type": "code",
   "execution_count": 8,
   "id": "d6eaad83-f27b-4a9f-b105-e98622463dcd",
   "metadata": {},
   "outputs": [],
   "source": [
    "coverage <- read.table(\"coverage-barcode01.bedgraph\", sep = \"\\t\")"
   ]
  },
  {
   "cell_type": "code",
   "execution_count": 9,
   "id": "6e846e42-a4e3-40be-95fc-d4e790c0159c",
   "metadata": {},
   "outputs": [],
   "source": [
    "colnames(coverage)<-c(\"vector\",\"start\",\"end\",\"cov\")"
   ]
  },
  {
   "cell_type": "code",
   "execution_count": 10,
   "id": "c998a529-d6f7-4da1-91f4-ce6e99a2aeba",
   "metadata": {},
   "outputs": [
    {
     "data": {
      "text/html": [
       "<table class=\"dataframe\">\n",
       "<caption>A data.frame: 6 × 4</caption>\n",
       "<thead>\n",
       "\t<tr><th></th><th scope=col>vector</th><th scope=col>start</th><th scope=col>end</th><th scope=col>cov</th></tr>\n",
       "\t<tr><th></th><th scope=col>&lt;chr&gt;</th><th scope=col>&lt;int&gt;</th><th scope=col>&lt;int&gt;</th><th scope=col>&lt;dbl&gt;</th></tr>\n",
       "</thead>\n",
       "<tbody>\n",
       "\t<tr><th scope=row>1</th><td>pRMCE_CD4_CTG</td><td>2486</td><td>2499</td><td>6</td></tr>\n",
       "\t<tr><th scope=row>2</th><td>pRMCE_CD4_CTG</td><td>2499</td><td>2500</td><td>1</td></tr>\n",
       "\t<tr><th scope=row>3</th><td>pRMCE_CD4_CTG</td><td>2500</td><td>2522</td><td>6</td></tr>\n",
       "\t<tr><th scope=row>4</th><td>pRMCE_CD4_CTG</td><td>2522</td><td>2523</td><td>5</td></tr>\n",
       "\t<tr><th scope=row>5</th><td>pRMCE_CD4_CTG</td><td>2523</td><td>2541</td><td>6</td></tr>\n",
       "\t<tr><th scope=row>6</th><td>pRMCE_CD4_CTG</td><td>2541</td><td>2546</td><td>2</td></tr>\n",
       "</tbody>\n",
       "</table>\n"
      ],
      "text/latex": [
       "A data.frame: 6 × 4\n",
       "\\begin{tabular}{r|llll}\n",
       "  & vector & start & end & cov\\\\\n",
       "  & <chr> & <int> & <int> & <dbl>\\\\\n",
       "\\hline\n",
       "\t1 & pRMCE\\_CD4\\_CTG & 2486 & 2499 & 6\\\\\n",
       "\t2 & pRMCE\\_CD4\\_CTG & 2499 & 2500 & 1\\\\\n",
       "\t3 & pRMCE\\_CD4\\_CTG & 2500 & 2522 & 6\\\\\n",
       "\t4 & pRMCE\\_CD4\\_CTG & 2522 & 2523 & 5\\\\\n",
       "\t5 & pRMCE\\_CD4\\_CTG & 2523 & 2541 & 6\\\\\n",
       "\t6 & pRMCE\\_CD4\\_CTG & 2541 & 2546 & 2\\\\\n",
       "\\end{tabular}\n"
      ],
      "text/markdown": [
       "\n",
       "A data.frame: 6 × 4\n",
       "\n",
       "| <!--/--> | vector &lt;chr&gt; | start &lt;int&gt; | end &lt;int&gt; | cov &lt;dbl&gt; |\n",
       "|---|---|---|---|---|\n",
       "| 1 | pRMCE_CD4_CTG | 2486 | 2499 | 6 |\n",
       "| 2 | pRMCE_CD4_CTG | 2499 | 2500 | 1 |\n",
       "| 3 | pRMCE_CD4_CTG | 2500 | 2522 | 6 |\n",
       "| 4 | pRMCE_CD4_CTG | 2522 | 2523 | 5 |\n",
       "| 5 | pRMCE_CD4_CTG | 2523 | 2541 | 6 |\n",
       "| 6 | pRMCE_CD4_CTG | 2541 | 2546 | 2 |\n",
       "\n"
      ],
      "text/plain": [
       "  vector        start end  cov\n",
       "1 pRMCE_CD4_CTG 2486  2499 6  \n",
       "2 pRMCE_CD4_CTG 2499  2500 1  \n",
       "3 pRMCE_CD4_CTG 2500  2522 6  \n",
       "4 pRMCE_CD4_CTG 2522  2523 5  \n",
       "5 pRMCE_CD4_CTG 2523  2541 6  \n",
       "6 pRMCE_CD4_CTG 2541  2546 2  "
      ]
     },
     "metadata": {},
     "output_type": "display_data"
    }
   ],
   "source": [
    "head(coverage)"
   ]
  },
  {
   "cell_type": "code",
   "execution_count": 12,
   "id": "a20a9e94-daf9-4628-a63a-b8d9dd7f63e2",
   "metadata": {},
   "outputs": [
    {
     "data": {
      "image/png": "[encoded data removed]",
      "text/plain": [
       "plot without title"
      ]
     },
     "metadata": {
      "image/png": {
       "height": 420,
       "width": 420
      }
     },
     "output_type": "display_data"
    }
   ],
   "source": [
    "plot(coverage$start,coverage$cov)"
   ]
  }
 ],
 "metadata": {
  "kernelspec": {
   "display_name": "Bash",
   "language": "bash",
   "name": "bash"
  },
  "language_info": {
   "codemirror_mode": "shell",
   "file_extension": ".sh",
   "mimetype": "text/x-sh",
   "name": "bash"
  }
 },
 "nbformat": 4,
 "nbformat_minor": 5
}
